{
 "cells": [
  {
   "cell_type": "code",
   "execution_count": 18,
   "metadata": {},
   "outputs": [
    {
     "name": "stdout",
     "output_type": "stream",
     "text": [
      "1 2 3 4 5 6 7 sample orange"
     ]
    },
    {
     "data": {
      "text/html": [
       "<ol class=list-inline>\n",
       "\t<li>'1 sample'</li>\n",
       "\t<li>'2 orange'</li>\n",
       "\t<li>'3 sample'</li>\n",
       "\t<li>'4 orange'</li>\n",
       "\t<li>'5 sample'</li>\n",
       "\t<li>'6 orange'</li>\n",
       "\t<li>'7 sample'</li>\n",
       "</ol>\n"
      ],
      "text/latex": [
       "\\begin{enumerate*}\n",
       "\\item '1 sample'\n",
       "\\item '2 orange'\n",
       "\\item '3 sample'\n",
       "\\item '4 orange'\n",
       "\\item '5 sample'\n",
       "\\item '6 orange'\n",
       "\\item '7 sample'\n",
       "\\end{enumerate*}\n"
      ],
      "text/markdown": [
       "1. '1 sample'\n",
       "2. '2 orange'\n",
       "3. '3 sample'\n",
       "4. '4 orange'\n",
       "5. '5 sample'\n",
       "6. '6 orange'\n",
       "7. '7 sample'\n",
       "\n",
       "\n"
      ],
      "text/plain": [
       "[1] \"1 sample\" \"2 orange\" \"3 sample\" \"4 orange\" \"5 sample\" \"6 orange\" \"7 sample\""
      ]
     },
     "metadata": {},
     "output_type": "display_data"
    },
    {
     "data": {
      "text/html": [
       "<table>\n",
       "<caption>A data.frame: 9 × 2</caption>\n",
       "<thead>\n",
       "\t<tr><th></th><th scope=col>simple</th><th scope=col>dimple</th></tr>\n",
       "\t<tr><th></th><th scope=col>&lt;dbl&gt;</th><th scope=col>&lt;dbl&gt;</th></tr>\n",
       "</thead>\n",
       "<tbody>\n",
       "\t<tr><th scope=row>1</th><td> 2</td><td> 2</td></tr>\n",
       "\t<tr><th scope=row>3</th><td> 3</td><td> 3</td></tr>\n",
       "\t<tr><th scope=row>4</th><td> 4</td><td> 4</td></tr>\n",
       "\t<tr><th scope=row>5</th><td> 5</td><td> 5</td></tr>\n",
       "\t<tr><th scope=row>6</th><td> 6</td><td> 6</td></tr>\n",
       "\t<tr><th scope=row>7</th><td> 7</td><td> 7</td></tr>\n",
       "\t<tr><th scope=row>8</th><td> 8</td><td> 8</td></tr>\n",
       "\t<tr><th scope=row>9</th><td> 9</td><td> 9</td></tr>\n",
       "\t<tr><th scope=row>10</th><td>10</td><td>10</td></tr>\n",
       "</tbody>\n",
       "</table>\n"
      ],
      "text/latex": [
       "A data.frame: 9 × 2\n",
       "\\begin{tabular}{r|ll}\n",
       "  & simple & dimple\\\\\n",
       "  & <dbl> & <dbl>\\\\\n",
       "\\hline\n",
       "\t1 &  2 &  2\\\\\n",
       "\t3 &  3 &  3\\\\\n",
       "\t4 &  4 &  4\\\\\n",
       "\t5 &  5 &  5\\\\\n",
       "\t6 &  6 &  6\\\\\n",
       "\t7 &  7 &  7\\\\\n",
       "\t8 &  8 &  8\\\\\n",
       "\t9 &  9 &  9\\\\\n",
       "\t10 & 10 & 10\\\\\n",
       "\\end{tabular}\n"
      ],
      "text/markdown": [
       "\n",
       "A data.frame: 9 × 2\n",
       "\n",
       "| <!--/--> | simple &lt;dbl&gt; | dimple &lt;dbl&gt; |\n",
       "|---|---|---|\n",
       "| 1 |  2 |  2 |\n",
       "| 3 |  3 |  3 |\n",
       "| 4 |  4 |  4 |\n",
       "| 5 |  5 |  5 |\n",
       "| 6 |  6 |  6 |\n",
       "| 7 |  7 |  7 |\n",
       "| 8 |  8 |  8 |\n",
       "| 9 |  9 |  9 |\n",
       "| 10 | 10 | 10 |\n",
       "\n"
      ],
      "text/plain": [
       "   simple dimple\n",
       "1   2      2    \n",
       "3   3      3    \n",
       "4   4      4    \n",
       "5   5      5    \n",
       "6   6      6    \n",
       "7   7      7    \n",
       "8   8      8    \n",
       "9   9      9    \n",
       "10 10     10    "
      ]
     },
     "metadata": {},
     "output_type": "display_data"
    }
   ],
   "source": [
    "x = c(1,2,3,4,5,6,7)\n",
    "y = c(\"sample\",\"orange\")\n",
    "\n",
    "cat(x,y)\n",
    "z = paste(x,y)\n",
    "z\n",
    "\n",
    "f = data.frame(c(1:10),c(1:10))\n",
    "names(f) = c(\"simple\", \"dimple\")\n",
    "f[1,1] = 2\n",
    "f[1,2] = 2\n",
    "f = unique(f)\n",
    "f"
   ]
  }
 ],
 "metadata": {
  "kernelspec": {
   "display_name": "R",
   "language": "R",
   "name": "ir"
  },
  "language_info": {
   "codemirror_mode": "r",
   "file_extension": ".r",
   "mimetype": "text/x-r-source",
   "name": "R",
   "pygments_lexer": "r",
   "version": "3.5.1"
  }
 },
 "nbformat": 4,
 "nbformat_minor": 2
}
