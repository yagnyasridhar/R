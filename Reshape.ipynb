{
 "cells": [
  {
   "cell_type": "code",
   "execution_count": 1,
   "metadata": {},
   "outputs": [
    {
     "data": {
      "text/html": [
       "<table>\n",
       "<caption>A data.frame: 3 × 3</caption>\n",
       "<thead>\n",
       "\t<tr><th scope=col>countries</th><th scope=col>population_in_million</th><th scope=col>gdp_percapita</th></tr>\n",
       "\t<tr><th scope=col>&lt;fct&gt;</th><th scope=col>&lt;dbl&gt;</th><th scope=col>&lt;dbl&gt;</th></tr>\n",
       "</thead>\n",
       "<tbody>\n",
       "\t<tr><td>A</td><td>100</td><td> 2000</td></tr>\n",
       "\t<tr><td>B</td><td>200</td><td> 7000</td></tr>\n",
       "\t<tr><td>C</td><td>120</td><td>15000</td></tr>\n",
       "</tbody>\n",
       "</table>\n"
      ],
      "text/latex": [
       "A data.frame: 3 × 3\n",
       "\\begin{tabular}{r|lll}\n",
       " countries & population\\_in\\_million & gdp\\_percapita\\\\\n",
       " <fct> & <dbl> & <dbl>\\\\\n",
       "\\hline\n",
       "\t A & 100 &  2000\\\\\n",
       "\t B & 200 &  7000\\\\\n",
       "\t C & 120 & 15000\\\\\n",
       "\\end{tabular}\n"
      ],
      "text/markdown": [
       "\n",
       "A data.frame: 3 × 3\n",
       "\n",
       "| countries &lt;fct&gt; | population_in_million &lt;dbl&gt; | gdp_percapita &lt;dbl&gt; |\n",
       "|---|---|---|\n",
       "| A | 100 |  2000 |\n",
       "| B | 200 |  7000 |\n",
       "| C | 120 | 15000 |\n",
       "\n"
      ],
      "text/plain": [
       "  countries population_in_million gdp_percapita\n",
       "1 A         100                    2000        \n",
       "2 B         200                    7000        \n",
       "3 C         120                   15000        "
      ]
     },
     "metadata": {},
     "output_type": "display_data"
    }
   ],
   "source": [
    "# create data frame\n",
    " \n",
    "country<-data.frame(c(\"A\",\"B\",\"C\"),c(100,200,120),c(2000,7000,15000))\n",
    "colnames(country)<- c(\"countries\",\"population_in_million\",\"gdp_percapita\")\n",
    "country    "
   ]
  },
  {
   "cell_type": "code",
   "execution_count": 16,
   "metadata": {},
   "outputs": [
    {
     "data": {
      "text/html": [
       "<table>\n",
       "<caption>A data.frame: 6 × 3</caption>\n",
       "<thead>\n",
       "\t<tr><th scope=col>countries</th><th scope=col>time</th><th scope=col>value</th></tr>\n",
       "\t<tr><th scope=col>&lt;fct&gt;</th><th scope=col>&lt;chr&gt;</th><th scope=col>&lt;dbl&gt;</th></tr>\n",
       "</thead>\n",
       "<tbody>\n",
       "\t<tr><td>A</td><td>population_in_million</td><td>  100</td></tr>\n",
       "\t<tr><td>B</td><td>population_in_million</td><td>  200</td></tr>\n",
       "\t<tr><td>C</td><td>population_in_million</td><td>  120</td></tr>\n",
       "\t<tr><td>A</td><td>gdp_percapita        </td><td> 2000</td></tr>\n",
       "\t<tr><td>B</td><td>gdp_percapita        </td><td> 7000</td></tr>\n",
       "\t<tr><td>C</td><td>gdp_percapita        </td><td>15000</td></tr>\n",
       "</tbody>\n",
       "</table>\n"
      ],
      "text/latex": [
       "A data.frame: 6 × 3\n",
       "\\begin{tabular}{r|lll}\n",
       " countries & time & value\\\\\n",
       " <fct> & <chr> & <dbl>\\\\\n",
       "\\hline\n",
       "\t A & population\\_in\\_million &   100\\\\\n",
       "\t B & population\\_in\\_million &   200\\\\\n",
       "\t C & population\\_in\\_million &   120\\\\\n",
       "\t A & gdp\\_percapita         &  2000\\\\\n",
       "\t B & gdp\\_percapita         &  7000\\\\\n",
       "\t C & gdp\\_percapita         & 15000\\\\\n",
       "\\end{tabular}\n"
      ],
      "text/markdown": [
       "\n",
       "A data.frame: 6 × 3\n",
       "\n",
       "| countries &lt;fct&gt; | time &lt;chr&gt; | value &lt;dbl&gt; |\n",
       "|---|---|---|\n",
       "| A | population_in_million |   100 |\n",
       "| B | population_in_million |   200 |\n",
       "| C | population_in_million |   120 |\n",
       "| A | gdp_percapita         |  2000 |\n",
       "| B | gdp_percapita         |  7000 |\n",
       "| C | gdp_percapita         | 15000 |\n",
       "\n"
      ],
      "text/plain": [
       "  countries time                  value\n",
       "1 A         population_in_million   100\n",
       "2 B         population_in_million   200\n",
       "3 C         population_in_million   120\n",
       "4 A         gdp_percapita          2000\n",
       "5 B         gdp_percapita          7000\n",
       "6 C         gdp_percapita         15000"
      ]
     },
     "metadata": {},
     "output_type": "display_data"
    }
   ],
   "source": [
    "## reshape in R from wide to long example\n",
    " \n",
    "c<- reshape(data=country, idvar=\"countries\",\n",
    "                         varying = c(\"population_in_million\",\"gdp_percapita\"),\n",
    "                         v.name=c(\"value\"),\n",
    "                         times=c(\"population_in_million\",\"gdp_percapita\"),\n",
    "                         new.row.names = 1:1000,\n",
    "                         direction=\"long\")\n",
    "c"
   ]
  },
  {
   "cell_type": "code",
   "execution_count": 17,
   "metadata": {},
   "outputs": [
    {
     "data": {
      "text/html": [
       "<table>\n",
       "<caption>A data.frame: 3 × 3</caption>\n",
       "<thead>\n",
       "\t<tr><th scope=col>countries</th><th scope=col>population_in_million</th><th scope=col>gdp_percapita</th></tr>\n",
       "\t<tr><th scope=col>&lt;fct&gt;</th><th scope=col>&lt;dbl&gt;</th><th scope=col>&lt;dbl&gt;</th></tr>\n",
       "</thead>\n",
       "<tbody>\n",
       "\t<tr><td>A</td><td>100</td><td> 2000</td></tr>\n",
       "\t<tr><td>B</td><td>200</td><td> 7000</td></tr>\n",
       "\t<tr><td>C</td><td>120</td><td>15000</td></tr>\n",
       "</tbody>\n",
       "</table>\n"
      ],
      "text/latex": [
       "A data.frame: 3 × 3\n",
       "\\begin{tabular}{r|lll}\n",
       " countries & population\\_in\\_million & gdp\\_percapita\\\\\n",
       " <fct> & <dbl> & <dbl>\\\\\n",
       "\\hline\n",
       "\t A & 100 &  2000\\\\\n",
       "\t B & 200 &  7000\\\\\n",
       "\t C & 120 & 15000\\\\\n",
       "\\end{tabular}\n"
      ],
      "text/markdown": [
       "\n",
       "A data.frame: 3 × 3\n",
       "\n",
       "| countries &lt;fct&gt; | population_in_million &lt;dbl&gt; | gdp_percapita &lt;dbl&gt; |\n",
       "|---|---|---|\n",
       "| A | 100 |  2000 |\n",
       "| B | 200 |  7000 |\n",
       "| C | 120 | 15000 |\n",
       "\n"
      ],
      "text/plain": [
       "  countries population_in_million gdp_percapita\n",
       "1 A         100                    2000        \n",
       "2 B         200                    7000        \n",
       "3 C         120                   15000        "
      ]
     },
     "metadata": {},
     "output_type": "display_data"
    }
   ],
   "source": [
    "d = reshape(c,\"country\", varying=\"value\", direction=\"wide\")\n",
    "d"
   ]
  }
 ],
 "metadata": {
  "kernelspec": {
   "display_name": "R",
   "language": "R",
   "name": "ir"
  },
  "language_info": {
   "codemirror_mode": "r",
   "file_extension": ".r",
   "mimetype": "text/x-r-source",
   "name": "R",
   "pygments_lexer": "r",
   "version": "3.5.1"
  }
 },
 "nbformat": 4,
 "nbformat_minor": 2
}
