{
 "cells": [
  {
   "cell_type": "code",
   "execution_count": 18,
   "metadata": {},
   "outputs": [],
   "source": [
    "revenue <- c(14574.49, 7606.46, 8611.41, 9175.41, 8058.65, 8105.44, 11496.28, 9766.09, 10305.32, 14379.96, 10713.97, 15433.50)\n",
    "expenses <- c(12051.82, 5695.07, 12319.20, 12089.72, 8658.57, 840.20, 3285.73, 5821.12, 6976.93, 16618.61, 10054.37, 3803.96)"
   ]
  },
  {
   "cell_type": "code",
   "execution_count": 19,
   "metadata": {},
   "outputs": [],
   "source": [
    "profit = revenue -  expenses"
   ]
  },
  {
   "cell_type": "code",
   "execution_count": 22,
   "metadata": {},
   "outputs": [
    {
     "data": {
      "text/html": [
       "<ol class=list-inline>\n",
       "\t<li>1765.67</li>\n",
       "\t<li>1338.39</li>\n",
       "\t<li>-2595.79</li>\n",
       "\t<li>-2040.31</li>\n",
       "\t<li>-419.92</li>\n",
       "\t<li>5085.24</li>\n",
       "\t<li>5747.55</li>\n",
       "\t<li>2761.97</li>\n",
       "\t<li>2329.39</li>\n",
       "\t<li>-1566.65</li>\n",
       "\t<li>461.599999999999</li>\n",
       "\t<li>8140.54</li>\n",
       "</ol>\n"
      ],
      "text/latex": [
       "\\begin{enumerate*}\n",
       "\\item 1765.67\n",
       "\\item 1338.39\n",
       "\\item -2595.79\n",
       "\\item -2040.31\n",
       "\\item -419.92\n",
       "\\item 5085.24\n",
       "\\item 5747.55\n",
       "\\item 2761.97\n",
       "\\item 2329.39\n",
       "\\item -1566.65\n",
       "\\item 461.599999999999\n",
       "\\item 8140.54\n",
       "\\end{enumerate*}\n"
      ],
      "text/markdown": [
       "1. 1765.67\n",
       "2. 1338.39\n",
       "3. -2595.79\n",
       "4. -2040.31\n",
       "5. -419.92\n",
       "6. 5085.24\n",
       "7. 5747.55\n",
       "8. 2761.97\n",
       "9. 2329.39\n",
       "10. -1566.65\n",
       "11. 461.599999999999\n",
       "12. 8140.54\n",
       "\n",
       "\n"
      ],
      "text/plain": [
       " [1]  1765.67  1338.39 -2595.79 -2040.31  -419.92  5085.24  5747.55  2761.97\n",
       " [9]  2329.39 -1566.65   461.60  8140.54"
      ]
     },
     "metadata": {},
     "output_type": "display_data"
    }
   ],
   "source": [
    "tax = round(0.3 * profit)\n",
    "profittax = profit - tax\n",
    "profittax"
   ]
  },
  {
   "cell_type": "code",
   "execution_count": 27,
   "metadata": {},
   "outputs": [
    {
     "data": {
      "text/html": [
       "<ol class=list-inline>\n",
       "\t<li>FALSE</li>\n",
       "\t<li>FALSE</li>\n",
       "\t<li>FALSE</li>\n",
       "\t<li>FALSE</li>\n",
       "\t<li>FALSE</li>\n",
       "\t<li>FALSE</li>\n",
       "\t<li>FALSE</li>\n",
       "\t<li>FALSE</li>\n",
       "\t<li>FALSE</li>\n",
       "\t<li>FALSE</li>\n",
       "\t<li>FALSE</li>\n",
       "\t<li>TRUE</li>\n",
       "</ol>\n"
      ],
      "text/latex": [
       "\\begin{enumerate*}\n",
       "\\item FALSE\n",
       "\\item FALSE\n",
       "\\item FALSE\n",
       "\\item FALSE\n",
       "\\item FALSE\n",
       "\\item FALSE\n",
       "\\item FALSE\n",
       "\\item FALSE\n",
       "\\item FALSE\n",
       "\\item FALSE\n",
       "\\item FALSE\n",
       "\\item TRUE\n",
       "\\end{enumerate*}\n"
      ],
      "text/markdown": [
       "1. FALSE\n",
       "2. FALSE\n",
       "3. FALSE\n",
       "4. FALSE\n",
       "5. FALSE\n",
       "6. FALSE\n",
       "7. FALSE\n",
       "8. FALSE\n",
       "9. FALSE\n",
       "10. FALSE\n",
       "11. FALSE\n",
       "12. TRUE\n",
       "\n",
       "\n"
      ],
      "text/plain": [
       " [1] FALSE FALSE FALSE FALSE FALSE FALSE FALSE FALSE FALSE FALSE FALSE  TRUE"
      ]
     },
     "metadata": {},
     "output_type": "display_data"
    }
   ],
   "source": [
    "profitmargin = round(profittax / revenue, 2) * 100\n",
    "mean =mean(profittax)\n",
    "\n",
    "good.month = profittax > mean\n",
    "\n",
    "bad.month = !good.month\n",
    "\n",
    "best.month = profittax == max(profittax)\n",
    "bad.month = profittax == min(profittax)\n",
    "\n",
    "best.month\n"
   ]
  }
 ],
 "metadata": {
  "kernelspec": {
   "display_name": "R",
   "language": "R",
   "name": "ir"
  },
  "language_info": {
   "codemirror_mode": "r",
   "file_extension": ".r",
   "mimetype": "text/x-r-source",
   "name": "R",
   "pygments_lexer": "r",
   "version": "3.5.1"
  }
 },
 "nbformat": 4,
 "nbformat_minor": 2
}
