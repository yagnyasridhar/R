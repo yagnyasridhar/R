{
 "cells": [
  {
   "cell_type": "code",
   "execution_count": 17,
   "metadata": {},
   "outputs": [
    {
     "data": {
      "text/html": [
       "<table>\n",
       "<caption>A data.frame: 3 × 5</caption>\n",
       "<thead>\n",
       "\t<tr><th scope=col>Group.1</th><th scope=col>Sepal.Length</th><th scope=col>Sepal.Width</th><th scope=col>Petal.Length</th><th scope=col>Petal.Width</th></tr>\n",
       "\t<tr><th scope=col>&lt;fct&gt;</th><th scope=col>&lt;dbl&gt;</th><th scope=col>&lt;dbl&gt;</th><th scope=col>&lt;dbl&gt;</th><th scope=col>&lt;dbl&gt;</th></tr>\n",
       "</thead>\n",
       "<tbody>\n",
       "\t<tr><td>setosa    </td><td>250.3</td><td>171.4</td><td> 73.1</td><td> 12.3</td></tr>\n",
       "\t<tr><td>versicolor</td><td>296.8</td><td>138.5</td><td>213.0</td><td> 66.3</td></tr>\n",
       "\t<tr><td>virginica </td><td>329.4</td><td>148.7</td><td>277.6</td><td>101.3</td></tr>\n",
       "</tbody>\n",
       "</table>\n"
      ],
      "text/latex": [
       "A data.frame: 3 × 5\n",
       "\\begin{tabular}{r|lllll}\n",
       " Group.1 & Sepal.Length & Sepal.Width & Petal.Length & Petal.Width\\\\\n",
       " <fct> & <dbl> & <dbl> & <dbl> & <dbl>\\\\\n",
       "\\hline\n",
       "\t setosa     & 250.3 & 171.4 &  73.1 &  12.3\\\\\n",
       "\t versicolor & 296.8 & 138.5 & 213.0 &  66.3\\\\\n",
       "\t virginica  & 329.4 & 148.7 & 277.6 & 101.3\\\\\n",
       "\\end{tabular}\n"
      ],
      "text/markdown": [
       "\n",
       "A data.frame: 3 × 5\n",
       "\n",
       "| Group.1 &lt;fct&gt; | Sepal.Length &lt;dbl&gt; | Sepal.Width &lt;dbl&gt; | Petal.Length &lt;dbl&gt; | Petal.Width &lt;dbl&gt; |\n",
       "|---|---|---|---|---|\n",
       "| setosa     | 250.3 | 171.4 |  73.1 |  12.3 |\n",
       "| versicolor | 296.8 | 138.5 | 213.0 |  66.3 |\n",
       "| virginica  | 329.4 | 148.7 | 277.6 | 101.3 |\n",
       "\n"
      ],
      "text/plain": [
       "  Group.1    Sepal.Length Sepal.Width Petal.Length Petal.Width\n",
       "1 setosa     250.3        171.4        73.1         12.3      \n",
       "2 versicolor 296.8        138.5       213.0         66.3      \n",
       "3 virginica  329.4        148.7       277.6        101.3      "
      ]
     },
     "metadata": {},
     "output_type": "display_data"
    }
   ],
   "source": [
    "#seq(1,100,3)\n",
    "\n",
    "agg = aggregate(iris[,1:4],by=list(iris$Species),FUN=sum, \n",
    "               F)\n",
    "agg"
   ]
  }
 ],
 "metadata": {
  "kernelspec": {
   "display_name": "R",
   "language": "R",
   "name": "ir"
  },
  "language_info": {
   "codemirror_mode": "r",
   "file_extension": ".r",
   "mimetype": "text/x-r-source",
   "name": "R",
   "pygments_lexer": "r",
   "version": "3.5.1"
  }
 },
 "nbformat": 4,
 "nbformat_minor": 2
}
