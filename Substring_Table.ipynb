{
 "cells": [
  {
   "cell_type": "code",
   "execution_count": 24,
   "metadata": {},
   "outputs": [
    {
     "data": {
      "text/html": [
       "'Humpty_dumpty sat on a wall'"
      ],
      "text/latex": [
       "'Humpty\\_dumpty sat on a wall'"
      ],
      "text/markdown": [
       "'Humpty_dumpty sat on a wall'"
      ],
      "text/plain": [
       "[1] \"Humpty_dumpty sat on a wall\""
      ]
     },
     "metadata": {},
     "output_type": "display_data"
    },
    {
     "data": {
      "text/plain": [
       ", ,  = 3\n",
       "\n",
       "   \n",
       "     4  6  8\n",
       "  3  1  2 12\n",
       "  4  0  0  0\n",
       "  5  0  0  0\n",
       "\n",
       ", ,  = 4\n",
       "\n",
       "   \n",
       "     4  6  8\n",
       "  3  0  0  0\n",
       "  4  8  4  0\n",
       "  5  0  0  0\n",
       "\n",
       ", ,  = 5\n",
       "\n",
       "   \n",
       "     4  6  8\n",
       "  3  0  0  0\n",
       "  4  0  0  0\n",
       "  5  2  1  2\n"
      ]
     },
     "metadata": {},
     "output_type": "display_data"
    }
   ],
   "source": [
    "## Replacing values with substring in R\n",
    " \n",
    "mystring<-\"Humpty_Dumpty sat on a wall\"\n",
    "substring(mystring, 8,8) = \"d\"\n",
    "mystring\n",
    "\n",
    "table(mtcars$gear, mtcars$cyl, mtcars$gear)"
   ]
  }
 ],
 "metadata": {
  "kernelspec": {
   "display_name": "R",
   "language": "R",
   "name": "ir"
  },
  "language_info": {
   "codemirror_mode": "r",
   "file_extension": ".r",
   "mimetype": "text/x-r-source",
   "name": "R",
   "pygments_lexer": "r",
   "version": "3.5.1"
  }
 },
 "nbformat": 4,
 "nbformat_minor": 2
}
