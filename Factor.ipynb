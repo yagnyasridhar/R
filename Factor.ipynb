{
 "cells": [
  {
   "cell_type": "code",
   "execution_count": 1,
   "metadata": {},
   "outputs": [
    {
     "data": {
      "text/html": [
       "<ol class=list-inline>\n",
       "\t<li>'Sunday'</li>\n",
       "\t<li>'Monday'</li>\n",
       "\t<li>'Tuesday'</li>\n",
       "\t<li>'Wednesday'</li>\n",
       "\t<li>'Thursday'</li>\n",
       "\t<li>'Friday'</li>\n",
       "\t<li>'Saturday'</li>\n",
       "</ol>\n"
      ],
      "text/latex": [
       "\\begin{enumerate*}\n",
       "\\item 'Sunday'\n",
       "\\item 'Monday'\n",
       "\\item 'Tuesday'\n",
       "\\item 'Wednesday'\n",
       "\\item 'Thursday'\n",
       "\\item 'Friday'\n",
       "\\item 'Saturday'\n",
       "\\end{enumerate*}\n"
      ],
      "text/markdown": [
       "1. 'Sunday'\n",
       "2. 'Monday'\n",
       "3. 'Tuesday'\n",
       "4. 'Wednesday'\n",
       "5. 'Thursday'\n",
       "6. 'Friday'\n",
       "7. 'Saturday'\n",
       "\n",
       "\n"
      ],
      "text/plain": [
       "[1] \"Sunday\"    \"Monday\"    \"Tuesday\"   \"Wednesday\" \"Thursday\"  \"Friday\"   \n",
       "[7] \"Saturday\" "
      ]
     },
     "metadata": {},
     "output_type": "display_data"
    }
   ],
   "source": [
    "w = c(\"Sunday\", \"Monday\", \"Tuesday\", \"Wednesday\", \"Thursday\", \"Friday\", \"Saturday\")\n",
    "w"
   ]
  },
  {
   "cell_type": "code",
   "execution_count": 10,
   "metadata": {},
   "outputs": [
    {
     "data": {
      "text/html": [
       "<ol class=list-inline>\n",
       "\t<li>Sunday</li>\n",
       "\t<li>Monday</li>\n",
       "\t<li>Tuesday</li>\n",
       "\t<li>Wednesday</li>\n",
       "\t<li>Thursday</li>\n",
       "\t<li>Friday</li>\n",
       "\t<li>Saturday</li>\n",
       "</ol>\n",
       "\n",
       "<details>\n",
       "\t<summary style=display:list-item;cursor:pointer>\n",
       "\t\t<strong>Levels</strong>:\n",
       "\t</summary>\n",
       "\t<ol class=list-inline>\n",
       "\t\t<li>'Friday'</li>\n",
       "\t\t<li>'Monday'</li>\n",
       "\t\t<li>'Saturday'</li>\n",
       "\t\t<li>'Sunday'</li>\n",
       "\t\t<li>'Thursday'</li>\n",
       "\t\t<li>'Tuesday'</li>\n",
       "\t\t<li>'Wednesday'</li>\n",
       "\t</ol>\n",
       "</details>"
      ],
      "text/latex": [
       "\\begin{enumerate*}\n",
       "\\item Sunday\n",
       "\\item Monday\n",
       "\\item Tuesday\n",
       "\\item Wednesday\n",
       "\\item Thursday\n",
       "\\item Friday\n",
       "\\item Saturday\n",
       "\\end{enumerate*}\n",
       "\n",
       "\\emph{Levels}: \\begin{enumerate*}\n",
       "\\item 'Friday'\n",
       "\\item 'Monday'\n",
       "\\item 'Saturday'\n",
       "\\item 'Sunday'\n",
       "\\item 'Thursday'\n",
       "\\item 'Tuesday'\n",
       "\\item 'Wednesday'\n",
       "\\end{enumerate*}\n"
      ],
      "text/markdown": [
       "1. Sunday\n",
       "2. Monday\n",
       "3. Tuesday\n",
       "4. Wednesday\n",
       "5. Thursday\n",
       "6. Friday\n",
       "7. Saturday\n",
       "\n",
       "\n",
       "\n",
       "**Levels**: 1. 'Friday'\n",
       "2. 'Monday'\n",
       "3. 'Saturday'\n",
       "4. 'Sunday'\n",
       "5. 'Thursday'\n",
       "6. 'Tuesday'\n",
       "7. 'Wednesday'\n",
       "\n",
       "\n"
      ],
      "text/plain": [
       "[1] Sunday    Monday    Tuesday   Wednesday Thursday  Friday    Saturday \n",
       "Levels: Friday Monday Saturday Sunday Thursday Tuesday Wednesday"
      ]
     },
     "metadata": {},
     "output_type": "display_data"
    },
    {
     "name": "stdout",
     "output_type": "stream",
     "text": [
      " [1] Sri Sri Sri Sri dh  dh  dh  dh  ar  ar  ar  ar \n",
      "Levels: Sri dh ar\n"
     ]
    }
   ],
   "source": [
    "f = factor(w)\n",
    "f\n",
    "\n",
    "v <- gl(3, 4, labels = c(\"Sri\", \"dh\", \"ar\"))\n",
    "print(v)"
   ]
  }
 ],
 "metadata": {
  "kernelspec": {
   "display_name": "R",
   "language": "R",
   "name": "ir"
  },
  "language_info": {
   "codemirror_mode": "r",
   "file_extension": ".r",
   "mimetype": "text/x-r-source",
   "name": "R",
   "pygments_lexer": "r",
   "version": "3.5.1"
  }
 },
 "nbformat": 4,
 "nbformat_minor": 2
}
