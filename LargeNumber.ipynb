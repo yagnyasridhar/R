{
 "cells": [
  {
   "cell_type": "code",
   "execution_count": 16,
   "metadata": {},
   "outputs": [
    {
     "name": "stdout",
     "output_type": "stream",
     "text": [
      "[1] 34015\n",
      "[1] \"WOW\"\n"
     ]
    }
   ],
   "source": [
    "counter <- 0\n",
    "\n",
    "for(i in rnorm(100000)){\n",
    "    if(i > 0 & i < 1){\n",
    "        counter= counter + 1\n",
    "    }\n",
    "}\n",
    "\n",
    "print(counter)\n",
    "\n",
    "if(counter /1000 > 0.682){\n",
    "    print(\"WOW\")\n",
    "}"
   ]
  }
 ],
 "metadata": {
  "kernelspec": {
   "display_name": "R",
   "language": "R",
   "name": "ir"
  },
  "language_info": {
   "codemirror_mode": "r",
   "file_extension": ".r",
   "mimetype": "text/x-r-source",
   "name": "R",
   "pygments_lexer": "r",
   "version": "3.5.1"
  }
 },
 "nbformat": 4,
 "nbformat_minor": 2
}
