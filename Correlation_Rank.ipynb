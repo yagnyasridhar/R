{
 "cells": [
  {
   "cell_type": "code",
   "execution_count": 6,
   "metadata": {},
   "outputs": [
    {
     "data": {
      "text/html": [
       "<table>\n",
       "<caption>A matrix: 3 × 3 of type dbl</caption>\n",
       "<tbody>\n",
       "\t<tr><td>1</td><td>0.9449112</td><td>0.9707253</td></tr>\n",
       "\t<tr><td>1</td><td>0.9449112</td><td>0.9707253</td></tr>\n",
       "\t<tr><td>1</td><td>0.9449112</td><td>0.9707253</td></tr>\n",
       "</tbody>\n",
       "</table>\n"
      ],
      "text/latex": [
       "A matrix: 3 × 3 of type dbl\n",
       "\\begin{tabular}{lll}\n",
       "\t 1 & 0.9449112 & 0.9707253\\\\\n",
       "\t 1 & 0.9449112 & 0.9707253\\\\\n",
       "\t 1 & 0.9449112 & 0.9707253\\\\\n",
       "\\end{tabular}\n"
      ],
      "text/markdown": [
       "\n",
       "A matrix: 3 × 3 of type dbl\n",
       "\n",
       "| 1 | 0.9449112 | 0.9707253 |\n",
       "| 1 | 0.9449112 | 0.9707253 |\n",
       "| 1 | 0.9449112 | 0.9707253 |\n",
       "\n"
      ],
      "text/plain": [
       "     [,1] [,2]      [,3]     \n",
       "[1,] 1    0.9449112 0.9707253\n",
       "[2,] 1    0.9449112 0.9707253\n",
       "[3,] 1    0.9449112 0.9707253"
      ]
     },
     "metadata": {},
     "output_type": "display_data"
    }
   ],
   "source": [
    "# correlation of Matrix in R\n",
    "matA<-matrix(1:9,3,3)\n",
    "matB<-matrix(c(10,11,12,15,16,20,21,26,28),3,3)\n",
    "cor(matA,matB)"
   ]
  },
  {
   "cell_type": "code",
   "execution_count": 7,
   "metadata": {},
   "outputs": [
    {
     "data": {
      "text/html": [
       "<ol class=list-inline>\n",
       "\t<li>1</li>\n",
       "\t<li>4</li>\n",
       "\t<li>3</li>\n",
       "\t<li>2</li>\n",
       "</ol>\n"
      ],
      "text/latex": [
       "\\begin{enumerate*}\n",
       "\\item 1\n",
       "\\item 4\n",
       "\\item 3\n",
       "\\item 2\n",
       "\\end{enumerate*}\n"
      ],
      "text/markdown": [
       "1. 1\n",
       "2. 4\n",
       "3. 3\n",
       "4. 2\n",
       "\n",
       "\n"
      ],
      "text/plain": [
       "[1] 1 4 3 2"
      ]
     },
     "metadata": {},
     "output_type": "display_data"
    }
   ],
   "source": [
    "y<-c(\"a\",\"h\",\"e\",\"d\")\n",
    "rank(y)"
   ]
  }
 ],
 "metadata": {
  "kernelspec": {
   "display_name": "R",
   "language": "R",
   "name": "ir"
  },
  "language_info": {
   "codemirror_mode": "r",
   "file_extension": ".r",
   "mimetype": "text/x-r-source",
   "name": "R",
   "pygments_lexer": "r",
   "version": "3.5.1"
  }
 },
 "nbformat": 4,
 "nbformat_minor": 2
}
