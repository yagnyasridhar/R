{
 "cells": [
  {
   "cell_type": "code",
   "execution_count": 4,
   "metadata": {},
   "outputs": [
    {
     "data": {
      "text/html": [
       "<ol>\n",
       "\t<li><ol class=list-inline>\n",
       "\t<li>'my'</li>\n",
       "\t<li>'name'</li>\n",
       "\t<li>'is'</li>\n",
       "\t<li>'sridhar'</li>\n",
       "</ol>\n",
       "</li>\n",
       "</ol>\n"
      ],
      "text/latex": [
       "\\begin{enumerate}\n",
       "\\item \\begin{enumerate*}\n",
       "\\item 'my'\n",
       "\\item 'name'\n",
       "\\item 'is'\n",
       "\\item 'sridhar'\n",
       "\\end{enumerate*}\n",
       "\n",
       "\\end{enumerate}\n"
      ],
      "text/markdown": [
       "1. 1. 'my'\n",
       "2. 'name'\n",
       "3. 'is'\n",
       "4. 'sridhar'\n",
       "\n",
       "\n",
       "\n",
       "\n",
       "\n"
      ],
      "text/plain": [
       "[[1]]\n",
       "[1] \"my\"      \"name\"    \"is\"      \"sridhar\"\n"
      ]
     },
     "metadata": {},
     "output_type": "display_data"
    },
    {
     "data": {
      "text/html": [
       "'sridhar'"
      ],
      "text/latex": [
       "'sridhar'"
      ],
      "text/markdown": [
       "'sridhar'"
      ],
      "text/plain": [
       "[1] \"sridhar\""
      ]
     },
     "metadata": {},
     "output_type": "display_data"
    }
   ],
   "source": [
    "x = \"my name is sridhar\"\n",
    "s = strsplit(x, \" \")\n",
    "s\n",
    "d = unlist(s)\n",
    "d[4]"
   ]
  },
  {
   "cell_type": "code",
   "execution_count": 9,
   "metadata": {},
   "outputs": [
    {
     "data": {
      "text/html": [
       "<ol class=list-inline>\n",
       "\t<li>'my'</li>\n",
       "\t<li>'name'</li>\n",
       "\t<li>'is'</li>\n",
       "\t<li>'sridhar'</li>\n",
       "</ol>\n"
      ],
      "text/latex": [
       "\\begin{enumerate*}\n",
       "\\item 'my'\n",
       "\\item 'name'\n",
       "\\item 'is'\n",
       "\\item 'sridhar'\n",
       "\\end{enumerate*}\n"
      ],
      "text/markdown": [
       "1. 'my'\n",
       "2. 'name'\n",
       "3. 'is'\n",
       "4. 'sridhar'\n",
       "\n",
       "\n"
      ],
      "text/plain": [
       "[1] \"my\"      \"name\"    \"is\"      \"sridhar\""
      ]
     },
     "metadata": {},
     "output_type": "display_data"
    },
    {
     "data": {
      "text/html": [
       "TRUE"
      ],
      "text/latex": [
       "TRUE"
      ],
      "text/markdown": [
       "TRUE"
      ],
      "text/plain": [
       "[1] TRUE"
      ]
     },
     "metadata": {},
     "output_type": "display_data"
    },
    {
     "data": {
      "text/html": [
       "TRUE"
      ],
      "text/latex": [
       "TRUE"
      ],
      "text/markdown": [
       "TRUE"
      ],
      "text/plain": [
       "[1] TRUE"
      ]
     },
     "metadata": {},
     "output_type": "display_data"
    },
    {
     "data": {
      "text/html": [
       "TRUE"
      ],
      "text/latex": [
       "TRUE"
      ],
      "text/markdown": [
       "TRUE"
      ],
      "text/plain": [
       "[1] TRUE"
      ]
     },
     "metadata": {},
     "output_type": "display_data"
    }
   ],
   "source": [
    "d\n",
    "\"is\" %in% d\n",
    "any(\"is\" %in% d)\n",
    "all(\"is\" %in% d)"
   ]
  }
 ],
 "metadata": {
  "kernelspec": {
   "display_name": "R",
   "language": "R",
   "name": "ir"
  },
  "language_info": {
   "codemirror_mode": "r",
   "file_extension": ".r",
   "mimetype": "text/x-r-source",
   "name": "R",
   "pygments_lexer": "r",
   "version": "3.5.1"
  }
 },
 "nbformat": 4,
 "nbformat_minor": 2
}
