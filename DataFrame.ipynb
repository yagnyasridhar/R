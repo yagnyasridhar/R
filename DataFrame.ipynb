{
 "cells": [
  {
   "cell_type": "code",
   "execution_count": 1,
   "metadata": {},
   "outputs": [
    {
     "data": {
      "text/html": [
       "<table>\n",
       "<caption>A data.frame: 3 × 2</caption>\n",
       "<thead>\n",
       "\t<tr><th scope=col>ID</th><th scope=col>Name</th></tr>\n",
       "\t<tr><th scope=col>&lt;dbl&gt;</th><th scope=col>&lt;fct&gt;</th></tr>\n",
       "</thead>\n",
       "<tbody>\n",
       "\t<tr><td>1</td><td>Sai Narashima</td></tr>\n",
       "\t<tr><td>2</td><td>Sai Rama     </td></tr>\n",
       "\t<tr><td>3</td><td>Sai Krishna  </td></tr>\n",
       "</tbody>\n",
       "</table>\n"
      ],
      "text/latex": [
       "A data.frame: 3 × 2\n",
       "\\begin{tabular}{r|ll}\n",
       " ID & Name\\\\\n",
       " <dbl> & <fct>\\\\\n",
       "\\hline\n",
       "\t 1 & Sai Narashima\\\\\n",
       "\t 2 & Sai Rama     \\\\\n",
       "\t 3 & Sai Krishna  \\\\\n",
       "\\end{tabular}\n"
      ],
      "text/markdown": [
       "\n",
       "A data.frame: 3 × 2\n",
       "\n",
       "| ID &lt;dbl&gt; | Name &lt;fct&gt; |\n",
       "|---|---|\n",
       "| 1 | Sai Narashima |\n",
       "| 2 | Sai Rama      |\n",
       "| 3 | Sai Krishna   |\n",
       "\n"
      ],
      "text/plain": [
       "  ID Name         \n",
       "1 1  Sai Narashima\n",
       "2 2  Sai Rama     \n",
       "3 3  Sai Krishna  "
      ]
     },
     "metadata": {},
     "output_type": "display_data"
    }
   ],
   "source": [
    "empTable = data.frame(ID = c(1,2,3), Name = c(\"Sai Narashima\",\"Sai Rama\", \"Sai Krishna\"))\n",
    "empTable"
   ]
  },
  {
   "cell_type": "code",
   "execution_count": 15,
   "metadata": {},
   "outputs": [
    {
     "data": {
      "text/html": [
       "<table>\n",
       "<caption>A data.frame: 3 × 3</caption>\n",
       "<thead>\n",
       "\t<tr><th scope=col>ID</th><th scope=col>Name</th><th scope=col>Department</th></tr>\n",
       "\t<tr><th scope=col>&lt;dbl&gt;</th><th scope=col>&lt;fct&gt;</th><th scope=col>&lt;fct&gt;</th></tr>\n",
       "</thead>\n",
       "<tbody>\n",
       "\t<tr><td>1</td><td>Sai Narashima</td><td>IT    </td></tr>\n",
       "\t<tr><td>2</td><td>Sai Rama     </td><td>ECE   </td></tr>\n",
       "\t<tr><td>3</td><td>Sai Krishna  </td><td>Doctor</td></tr>\n",
       "</tbody>\n",
       "</table>\n"
      ],
      "text/latex": [
       "A data.frame: 3 × 3\n",
       "\\begin{tabular}{r|lll}\n",
       " ID & Name & Department\\\\\n",
       " <dbl> & <fct> & <fct>\\\\\n",
       "\\hline\n",
       "\t 1 & Sai Narashima & IT    \\\\\n",
       "\t 2 & Sai Rama      & ECE   \\\\\n",
       "\t 3 & Sai Krishna   & Doctor\\\\\n",
       "\\end{tabular}\n"
      ],
      "text/markdown": [
       "\n",
       "A data.frame: 3 × 3\n",
       "\n",
       "| ID &lt;dbl&gt; | Name &lt;fct&gt; | Department &lt;fct&gt; |\n",
       "|---|---|---|\n",
       "| 1 | Sai Narashima | IT     |\n",
       "| 2 | Sai Rama      | ECE    |\n",
       "| 3 | Sai Krishna   | Doctor |\n",
       "\n"
      ],
      "text/plain": [
       "  ID Name          Department\n",
       "1 1  Sai Narashima IT        \n",
       "2 2  Sai Rama      ECE       \n",
       "3 3  Sai Krishna   Doctor    "
      ]
     },
     "metadata": {},
     "output_type": "display_data"
    },
    {
     "data": {
      "text/html": [
       "<table>\n",
       "<caption>A data.frame: 4 × 3</caption>\n",
       "<thead>\n",
       "\t<tr><th scope=col>ID</th><th scope=col>Name</th><th scope=col>Department</th></tr>\n",
       "\t<tr><th scope=col>&lt;dbl&gt;</th><th scope=col>&lt;fct&gt;</th><th scope=col>&lt;fct&gt;</th></tr>\n",
       "</thead>\n",
       "<tbody>\n",
       "\t<tr><td>1</td><td>Sai Narashima</td><td>IT    </td></tr>\n",
       "\t<tr><td>2</td><td>Sai Rama     </td><td>ECE   </td></tr>\n",
       "\t<tr><td>3</td><td>Sai Krishna  </td><td>Doctor</td></tr>\n",
       "\t<tr><td>4</td><td>sridhar      </td><td>IT    </td></tr>\n",
       "</tbody>\n",
       "</table>\n"
      ],
      "text/latex": [
       "A data.frame: 4 × 3\n",
       "\\begin{tabular}{r|lll}\n",
       " ID & Name & Department\\\\\n",
       " <dbl> & <fct> & <fct>\\\\\n",
       "\\hline\n",
       "\t 1 & Sai Narashima & IT    \\\\\n",
       "\t 2 & Sai Rama      & ECE   \\\\\n",
       "\t 3 & Sai Krishna   & Doctor\\\\\n",
       "\t 4 & sridhar       & IT    \\\\\n",
       "\\end{tabular}\n"
      ],
      "text/markdown": [
       "\n",
       "A data.frame: 4 × 3\n",
       "\n",
       "| ID &lt;dbl&gt; | Name &lt;fct&gt; | Department &lt;fct&gt; |\n",
       "|---|---|---|\n",
       "| 1 | Sai Narashima | IT     |\n",
       "| 2 | Sai Rama      | ECE    |\n",
       "| 3 | Sai Krishna   | Doctor |\n",
       "| 4 | sridhar       | IT     |\n",
       "\n"
      ],
      "text/plain": [
       "  ID Name          Department\n",
       "1 1  Sai Narashima IT        \n",
       "2 2  Sai Rama      ECE       \n",
       "3 3  Sai Krishna   Doctor    \n",
       "4 4  sridhar       IT        "
      ]
     },
     "metadata": {},
     "output_type": "display_data"
    },
    {
     "data": {
      "text/html": [
       "<table>\n",
       "<caption>A data.frame: 1 × 3</caption>\n",
       "<thead>\n",
       "\t<tr><th scope=col>ID</th><th scope=col>Name</th><th scope=col>Department</th></tr>\n",
       "\t<tr><th scope=col>&lt;dbl&gt;</th><th scope=col>&lt;fct&gt;</th><th scope=col>&lt;fct&gt;</th></tr>\n",
       "</thead>\n",
       "<tbody>\n",
       "\t<tr><td>1</td><td>Sai Narashima</td><td>IT</td></tr>\n",
       "</tbody>\n",
       "</table>\n"
      ],
      "text/latex": [
       "A data.frame: 1 × 3\n",
       "\\begin{tabular}{r|lll}\n",
       " ID & Name & Department\\\\\n",
       " <dbl> & <fct> & <fct>\\\\\n",
       "\\hline\n",
       "\t 1 & Sai Narashima & IT\\\\\n",
       "\\end{tabular}\n"
      ],
      "text/markdown": [
       "\n",
       "A data.frame: 1 × 3\n",
       "\n",
       "| ID &lt;dbl&gt; | Name &lt;fct&gt; | Department &lt;fct&gt; |\n",
       "|---|---|---|\n",
       "| 1 | Sai Narashima | IT |\n",
       "\n"
      ],
      "text/plain": [
       "  ID Name          Department\n",
       "1 1  Sai Narashima IT        "
      ]
     },
     "metadata": {},
     "output_type": "display_data"
    }
   ],
   "source": [
    "Department = c(\"IT\",\"ECE\",\"Doctor\")\n",
    "emp = cbind(empTable, Department)\n",
    "emp\n",
    "\n",
    "emp1 = data.frame(ID = c(4), Name = c(\"sridhar\"), Department = \"IT\")\n",
    "emp = rbind(emp,emp1)\n",
    "emp\n",
    "\n",
    "emp[1,]"
   ]
  }
 ],
 "metadata": {
  "kernelspec": {
   "display_name": "R",
   "language": "R",
   "name": "ir"
  },
  "language_info": {
   "codemirror_mode": "r",
   "file_extension": ".r",
   "mimetype": "text/x-r-source",
   "name": "R",
   "pygments_lexer": "r",
   "version": "3.5.1"
  }
 },
 "nbformat": 4,
 "nbformat_minor": 2
}
