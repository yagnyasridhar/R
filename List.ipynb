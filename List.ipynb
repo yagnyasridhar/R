{
 "cells": [
  {
   "cell_type": "code",
   "execution_count": 21,
   "metadata": {},
   "outputs": [
    {
     "data": {
      "text/html": [
       "<ol>\n",
       "\t<li>1</li>\n",
       "\t<li>'Sample'</li>\n",
       "\t<li>TRUE</li>\n",
       "</ol>\n"
      ],
      "text/latex": [
       "\\begin{enumerate}\n",
       "\\item 1\n",
       "\\item 'Sample'\n",
       "\\item TRUE\n",
       "\\end{enumerate}\n"
      ],
      "text/markdown": [
       "1. 1\n",
       "2. 'Sample'\n",
       "3. TRUE\n",
       "\n",
       "\n"
      ],
      "text/plain": [
       "[[1]]\n",
       "[1] 1\n",
       "\n",
       "[[2]]\n",
       "[1] \"Sample\"\n",
       "\n",
       "[[3]]\n",
       "[1] TRUE\n"
      ]
     },
     "metadata": {},
     "output_type": "display_data"
    },
    {
     "data": {
      "text/html": [
       "<ol class=list-inline>\n",
       "\t<li>'numeric'</li>\n",
       "\t<li>'character'</li>\n",
       "\t<li>'logical'</li>\n",
       "</ol>\n"
      ],
      "text/latex": [
       "\\begin{enumerate*}\n",
       "\\item 'numeric'\n",
       "\\item 'character'\n",
       "\\item 'logical'\n",
       "\\end{enumerate*}\n"
      ],
      "text/markdown": [
       "1. 'numeric'\n",
       "2. 'character'\n",
       "3. 'logical'\n",
       "\n",
       "\n"
      ],
      "text/plain": [
       "[1] \"numeric\"   \"character\" \"logical\"  "
      ]
     },
     "metadata": {},
     "output_type": "display_data"
    },
    {
     "data": {
      "text/html": [
       "<ol>\n",
       "\t<li>1</li>\n",
       "\t<li>'Sample'</li>\n",
       "\t<li>TRUE</li>\n",
       "\t<li><ol class=list-inline>\n",
       "\t<li>12</li>\n",
       "\t<li>12</li>\n",
       "\t<li>12</li>\n",
       "</ol>\n",
       "</li>\n",
       "\t<li>'sample'</li>\n",
       "\t<li>'simple'</li>\n",
       "</ol>\n"
      ],
      "text/latex": [
       "\\begin{enumerate}\n",
       "\\item 1\n",
       "\\item 'Sample'\n",
       "\\item TRUE\n",
       "\\item \\begin{enumerate*}\n",
       "\\item 12\n",
       "\\item 12\n",
       "\\item 12\n",
       "\\end{enumerate*}\n",
       "\n",
       "\\item 'sample'\n",
       "\\item 'simple'\n",
       "\\end{enumerate}\n"
      ],
      "text/markdown": [
       "1. 1\n",
       "2. 'Sample'\n",
       "3. TRUE\n",
       "4. 1. 12\n",
       "2. 12\n",
       "3. 12\n",
       "\n",
       "\n",
       "\n",
       "5. 'sample'\n",
       "6. 'simple'\n",
       "\n",
       "\n"
      ],
      "text/plain": [
       "[[1]]\n",
       "[1] 1\n",
       "\n",
       "[[2]]\n",
       "[1] \"Sample\"\n",
       "\n",
       "[[3]]\n",
       "[1] TRUE\n",
       "\n",
       "[[4]]\n",
       "[1] 12 12 12\n",
       "\n",
       "[[5]]\n",
       "[1] \"sample\"\n",
       "\n",
       "[[6]]\n",
       "[1] \"simple\"\n"
      ]
     },
     "metadata": {},
     "output_type": "display_data"
    },
    {
     "data": {
      "text/html": [
       "<ol class=list-inline>\n",
       "\t<li>'numeric'</li>\n",
       "\t<li>'character'</li>\n",
       "\t<li>'logical'</li>\n",
       "\t<li>'numeric'</li>\n",
       "\t<li>'character'</li>\n",
       "\t<li>'character'</li>\n",
       "</ol>\n"
      ],
      "text/latex": [
       "\\begin{enumerate*}\n",
       "\\item 'numeric'\n",
       "\\item 'character'\n",
       "\\item 'logical'\n",
       "\\item 'numeric'\n",
       "\\item 'character'\n",
       "\\item 'character'\n",
       "\\end{enumerate*}\n"
      ],
      "text/markdown": [
       "1. 'numeric'\n",
       "2. 'character'\n",
       "3. 'logical'\n",
       "4. 'numeric'\n",
       "5. 'character'\n",
       "6. 'character'\n",
       "\n",
       "\n"
      ],
      "text/plain": [
       "[1] \"numeric\"   \"character\" \"logical\"   \"numeric\"   \"character\" \"character\""
      ]
     },
     "metadata": {},
     "output_type": "display_data"
    },
    {
     "name": "stdout",
     "output_type": "stream",
     "text": [
      "[1] 1\n",
      "[1] \"Sample\"\n",
      "[1] TRUE\n",
      "[1] \"sample\"\n",
      "[1] \"simple\"\n"
     ]
    }
   ],
   "source": [
    "lst <- list(c(1),\"Sample\", TRUE)\n",
    "lst\n",
    "\n",
    "sapply(lst,mode)\n",
    "lst1 <- list(c(12,12,12),\"sample\",\"simple\")\n",
    "\n",
    "list1 <- c(lst, lst1)\n",
    "list1\n",
    "sapply(list1, mode)\n",
    "\n",
    "for(i in list1){\n",
    "    if(length(i) > 1)\n",
    "        {\n",
    "        next\n",
    "        }\n",
    "    else\n",
    "        {\n",
    "        print(i)\n",
    "    }\n",
    "    }"
   ]
  }
 ],
 "metadata": {
  "kernelspec": {
   "display_name": "R",
   "language": "R",
   "name": "ir"
  },
  "language_info": {
   "codemirror_mode": "r",
   "file_extension": ".r",
   "mimetype": "text/x-r-source",
   "name": "R",
   "pygments_lexer": "r",
   "version": "3.5.1"
  }
 },
 "nbformat": 4,
 "nbformat_minor": 2
}
