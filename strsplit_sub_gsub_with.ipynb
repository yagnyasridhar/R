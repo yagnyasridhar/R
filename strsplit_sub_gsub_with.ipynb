{
 "cells": [
  {
   "cell_type": "code",
   "execution_count": 38,
   "metadata": {},
   "outputs": [
    {
     "data": {
      "text/html": [
       "'home/lincon/data/new.csv'"
      ],
      "text/latex": [
       "'home/lincon/data/new.csv'"
      ],
      "text/markdown": [
       "'home/lincon/data/new.csv'"
      ],
      "text/plain": [
       "[1] \"home/lincon/data/new.csv\""
      ]
     },
     "metadata": {},
     "output_type": "display_data"
    },
    {
     "data": {
      "text/html": [
       "'home/lincon/dada/oudpud.csv'"
      ],
      "text/latex": [
       "'home/lincon/dada/oudpud.csv'"
      ],
      "text/markdown": [
       "'home/lincon/dada/oudpud.csv'"
      ],
      "text/plain": [
       "[1] \"home/lincon/dada/oudpud.csv\""
      ]
     },
     "metadata": {},
     "output_type": "display_data"
    },
    {
     "data": {
      "text/html": [
       "<table>\n",
       "<caption>A data.frame: 12 × 2</caption>\n",
       "<thead>\n",
       "\t<tr><th scope=col>c.1.12.</th><th scope=col>c.rep..one...12..</th></tr>\n",
       "\t<tr><th scope=col>&lt;int&gt;</th><th scope=col>&lt;fct&gt;</th></tr>\n",
       "</thead>\n",
       "<tbody>\n",
       "\t<tr><td> 1</td><td>one</td></tr>\n",
       "\t<tr><td> 2</td><td>one</td></tr>\n",
       "\t<tr><td> 3</td><td>one</td></tr>\n",
       "\t<tr><td> 4</td><td>one</td></tr>\n",
       "\t<tr><td> 5</td><td>one</td></tr>\n",
       "\t<tr><td> 6</td><td>one</td></tr>\n",
       "\t<tr><td> 7</td><td>one</td></tr>\n",
       "\t<tr><td> 8</td><td>one</td></tr>\n",
       "\t<tr><td> 9</td><td>one</td></tr>\n",
       "\t<tr><td>10</td><td>one</td></tr>\n",
       "\t<tr><td>11</td><td>one</td></tr>\n",
       "\t<tr><td>12</td><td>one</td></tr>\n",
       "</tbody>\n",
       "</table>\n"
      ],
      "text/latex": [
       "A data.frame: 12 × 2\n",
       "\\begin{tabular}{r|ll}\n",
       " c.1.12. & c.rep..one...12..\\\\\n",
       " <int> & <fct>\\\\\n",
       "\\hline\n",
       "\t  1 & one\\\\\n",
       "\t  2 & one\\\\\n",
       "\t  3 & one\\\\\n",
       "\t  4 & one\\\\\n",
       "\t  5 & one\\\\\n",
       "\t  6 & one\\\\\n",
       "\t  7 & one\\\\\n",
       "\t  8 & one\\\\\n",
       "\t  9 & one\\\\\n",
       "\t 10 & one\\\\\n",
       "\t 11 & one\\\\\n",
       "\t 12 & one\\\\\n",
       "\\end{tabular}\n"
      ],
      "text/markdown": [
       "\n",
       "A data.frame: 12 × 2\n",
       "\n",
       "| c.1.12. &lt;int&gt; | c.rep..one...12.. &lt;fct&gt; |\n",
       "|---|---|\n",
       "|  1 | one |\n",
       "|  2 | one |\n",
       "|  3 | one |\n",
       "|  4 | one |\n",
       "|  5 | one |\n",
       "|  6 | one |\n",
       "|  7 | one |\n",
       "|  8 | one |\n",
       "|  9 | one |\n",
       "| 10 | one |\n",
       "| 11 | one |\n",
       "| 12 | one |\n",
       "\n"
      ],
      "text/plain": [
       "   c.1.12. c.rep..one...12..\n",
       "1   1      one              \n",
       "2   2      one              \n",
       "3   3      one              \n",
       "4   4      one              \n",
       "5   5      one              \n",
       "6   6      one              \n",
       "7   7      one              \n",
       "8   8      one              \n",
       "9   9      one              \n",
       "10 10      one              \n",
       "11 11      one              \n",
       "12 12      one              "
      ]
     },
     "metadata": {},
     "output_type": "display_data"
    },
    {
     "name": "stderr",
     "output_type": "stream",
     "text": [
      "Warning message in `[<-.data.frame`(`*tmp*`, nl, value = list(c = 12:24, c.1.12. = 1:12, :\n",
      "“replacement element 1 has 13 rows to replace 12 rows”"
     ]
    },
    {
     "data": {
      "text/html": [
       "<table>\n",
       "<caption>A data.frame: 12 × 3</caption>\n",
       "<thead>\n",
       "\t<tr><th scope=col>c.1.12.</th><th scope=col>c.rep..one...12..</th><th scope=col>c</th></tr>\n",
       "\t<tr><th scope=col>&lt;int&gt;</th><th scope=col>&lt;fct&gt;</th><th scope=col>&lt;int&gt;</th></tr>\n",
       "</thead>\n",
       "<tbody>\n",
       "\t<tr><td> 1</td><td>one</td><td>12</td></tr>\n",
       "\t<tr><td> 2</td><td>one</td><td>13</td></tr>\n",
       "\t<tr><td> 3</td><td>one</td><td>14</td></tr>\n",
       "\t<tr><td> 4</td><td>one</td><td>15</td></tr>\n",
       "\t<tr><td> 5</td><td>one</td><td>16</td></tr>\n",
       "\t<tr><td> 6</td><td>one</td><td>17</td></tr>\n",
       "\t<tr><td> 7</td><td>one</td><td>18</td></tr>\n",
       "\t<tr><td> 8</td><td>one</td><td>19</td></tr>\n",
       "\t<tr><td> 9</td><td>one</td><td>20</td></tr>\n",
       "\t<tr><td>10</td><td>one</td><td>21</td></tr>\n",
       "\t<tr><td>11</td><td>one</td><td>22</td></tr>\n",
       "\t<tr><td>12</td><td>one</td><td>23</td></tr>\n",
       "</tbody>\n",
       "</table>\n"
      ],
      "text/latex": [
       "A data.frame: 12 × 3\n",
       "\\begin{tabular}{r|lll}\n",
       " c.1.12. & c.rep..one...12.. & c\\\\\n",
       " <int> & <fct> & <int>\\\\\n",
       "\\hline\n",
       "\t  1 & one & 12\\\\\n",
       "\t  2 & one & 13\\\\\n",
       "\t  3 & one & 14\\\\\n",
       "\t  4 & one & 15\\\\\n",
       "\t  5 & one & 16\\\\\n",
       "\t  6 & one & 17\\\\\n",
       "\t  7 & one & 18\\\\\n",
       "\t  8 & one & 19\\\\\n",
       "\t  9 & one & 20\\\\\n",
       "\t 10 & one & 21\\\\\n",
       "\t 11 & one & 22\\\\\n",
       "\t 12 & one & 23\\\\\n",
       "\\end{tabular}\n"
      ],
      "text/markdown": [
       "\n",
       "A data.frame: 12 × 3\n",
       "\n",
       "| c.1.12. &lt;int&gt; | c.rep..one...12.. &lt;fct&gt; | c &lt;int&gt; |\n",
       "|---|---|---|\n",
       "|  1 | one | 12 |\n",
       "|  2 | one | 13 |\n",
       "|  3 | one | 14 |\n",
       "|  4 | one | 15 |\n",
       "|  5 | one | 16 |\n",
       "|  6 | one | 17 |\n",
       "|  7 | one | 18 |\n",
       "|  8 | one | 19 |\n",
       "|  9 | one | 20 |\n",
       "| 10 | one | 21 |\n",
       "| 11 | one | 22 |\n",
       "| 12 | one | 23 |\n",
       "\n"
      ],
      "text/plain": [
       "   c.1.12. c.rep..one...12.. c \n",
       "1   1      one               12\n",
       "2   2      one               13\n",
       "3   3      one               14\n",
       "4   4      one               15\n",
       "5   5      one               16\n",
       "6   6      one               17\n",
       "7   7      one               18\n",
       "8   8      one               19\n",
       "9   9      one               20\n",
       "10 10      one               21\n",
       "11 11      one               22\n",
       "12 12      one               23"
      ]
     },
     "metadata": {},
     "output_type": "display_data"
    }
   ],
   "source": [
    "path <- \"home/lincon/data/output.csv\"\n",
    "s = strsplit(path,\"/\")\n",
    "\n",
    "sub(\"output\", \"new\", path)\n",
    "gsub(\"t\", \"d\", path)\n",
    "\n",
    "df = data.frame(c(1:12),c(rep(\"one\",12)))\n",
    "\n",
    "with(df, {c = c(12:24); df})\n",
    "within(df,{c = c(12:24); df})"
   ]
  }
 ],
 "metadata": {
  "kernelspec": {
   "display_name": "R",
   "language": "R",
   "name": "ir"
  },
  "language_info": {
   "codemirror_mode": "r",
   "file_extension": ".r",
   "mimetype": "text/x-r-source",
   "name": "R",
   "pygments_lexer": "r",
   "version": "3.5.1"
  }
 },
 "nbformat": 4,
 "nbformat_minor": 2
}
