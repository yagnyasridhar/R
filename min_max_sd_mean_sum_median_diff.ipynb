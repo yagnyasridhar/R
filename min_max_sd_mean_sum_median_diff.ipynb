{
 "cells": [
  {
   "cell_type": "code",
   "execution_count": 4,
   "metadata": {},
   "outputs": [
    {
     "data": {
      "text/html": [
       "<ol class=list-inline>\n",
       "\t<li>12</li>\n",
       "\t<li>234</li>\n",
       "\t<li>3434</li>\n",
       "\t<li>3343</li>\n",
       "</ol>\n"
      ],
      "text/latex": [
       "\\begin{enumerate*}\n",
       "\\item 12\n",
       "\\item 234\n",
       "\\item 3434\n",
       "\\item 3343\n",
       "\\end{enumerate*}\n"
      ],
      "text/markdown": [
       "1. 12\n",
       "2. 234\n",
       "3. 3434\n",
       "4. 3343\n",
       "\n",
       "\n"
      ],
      "text/plain": [
       "[1]   12  234 3434 3343"
      ]
     },
     "metadata": {},
     "output_type": "display_data"
    }
   ],
   "source": [
    "x = c(12.232234,234.3434,3434,3343.3434)\n",
    "trunc(x)"
   ]
  },
  {
   "cell_type": "code",
   "execution_count": 5,
   "metadata": {},
   "outputs": [
    {
     "data": {
      "text/html": [
       "12.232234"
      ],
      "text/latex": [
       "12.232234"
      ],
      "text/markdown": [
       "12.232234"
      ],
      "text/plain": [
       "[1] 12.23223"
      ]
     },
     "metadata": {},
     "output_type": "display_data"
    }
   ],
   "source": [
    "min(x)"
   ]
  },
  {
   "cell_type": "code",
   "execution_count": 6,
   "metadata": {},
   "outputs": [
    {
     "data": {
      "text/html": [
       "3434"
      ],
      "text/latex": [
       "3434"
      ],
      "text/markdown": [
       "3434"
      ],
      "text/plain": [
       "[1] 3434"
      ]
     },
     "metadata": {},
     "output_type": "display_data"
    }
   ],
   "source": [
    "max(x)"
   ]
  },
  {
   "cell_type": "code",
   "execution_count": 7,
   "metadata": {},
   "outputs": [
    {
     "data": {
      "text/html": [
       "1755.9797585"
      ],
      "text/latex": [
       "1755.9797585"
      ],
      "text/markdown": [
       "1755.9797585"
      ],
      "text/plain": [
       "[1] 1755.98"
      ]
     },
     "metadata": {},
     "output_type": "display_data"
    }
   ],
   "source": [
    "mean(x)"
   ]
  },
  {
   "cell_type": "code",
   "execution_count": 8,
   "metadata": {},
   "outputs": [
    {
     "data": {
      "text/html": [
       "1788.8434"
      ],
      "text/latex": [
       "1788.8434"
      ],
      "text/markdown": [
       "1788.8434"
      ],
      "text/plain": [
       "[1] 1788.843"
      ]
     },
     "metadata": {},
     "output_type": "display_data"
    }
   ],
   "source": [
    "median(x)"
   ]
  },
  {
   "cell_type": "code",
   "execution_count": 9,
   "metadata": {},
   "outputs": [
    {
     "data": {
      "text/html": [
       "7023.919034"
      ],
      "text/latex": [
       "7023.919034"
      ],
      "text/markdown": [
       "7023.919034"
      ],
      "text/plain": [
       "[1] 7023.919"
      ]
     },
     "metadata": {},
     "output_type": "display_data"
    }
   ],
   "source": [
    "sum(x)\n"
   ]
  },
  {
   "cell_type": "code",
   "execution_count": 10,
   "metadata": {},
   "outputs": [
    {
     "data": {
      "text/html": [
       "<ol class=list-inline>\n",
       "\t<li>2.50407459859421</li>\n",
       "\t<li>5.45678756096808</li>\n",
       "\t<li>8.14148104145742</li>\n",
       "\t<li>8.11472660325044</li>\n",
       "</ol>\n"
      ],
      "text/latex": [
       "\\begin{enumerate*}\n",
       "\\item 2.50407459859421\n",
       "\\item 5.45678756096808\n",
       "\\item 8.14148104145742\n",
       "\\item 8.11472660325044\n",
       "\\end{enumerate*}\n"
      ],
      "text/markdown": [
       "1. 2.50407459859421\n",
       "2. 5.45678756096808\n",
       "3. 8.14148104145742\n",
       "4. 8.11472660325044\n",
       "\n",
       "\n"
      ],
      "text/plain": [
       "[1] 2.504075 5.456788 8.141481 8.114727"
      ]
     },
     "metadata": {},
     "output_type": "display_data"
    }
   ],
   "source": [
    "log(x)"
   ]
  },
  {
   "cell_type": "code",
   "execution_count": 12,
   "metadata": {},
   "outputs": [
    {
     "data": {
      "text/html": [
       "1887.81248167898"
      ],
      "text/latex": [
       "1887.81248167898"
      ],
      "text/markdown": [
       "1887.81248167898"
      ],
      "text/plain": [
       "[1] 1887.812"
      ]
     },
     "metadata": {},
     "output_type": "display_data"
    }
   ],
   "source": [
    "sd(x)"
   ]
  },
  {
   "cell_type": "code",
   "execution_count": 18,
   "metadata": {},
   "outputs": [
    {
     "data": {
      "text/html": [],
      "text/latex": [],
      "text/markdown": [],
      "text/plain": [
       "numeric(0)"
      ]
     },
     "metadata": {},
     "output_type": "display_data"
    }
   ],
   "source": [
    "diff(x,1,56)"
   ]
  }
 ],
 "metadata": {
  "kernelspec": {
   "display_name": "R",
   "language": "R",
   "name": "ir"
  },
  "language_info": {
   "codemirror_mode": "r",
   "file_extension": ".r",
   "mimetype": "text/x-r-source",
   "name": "R",
   "pygments_lexer": "r",
   "version": "3.5.1"
  }
 },
 "nbformat": 4,
 "nbformat_minor": 2
}
