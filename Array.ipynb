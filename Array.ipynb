{
 "cells": [
  {
   "cell_type": "code",
   "execution_count": 17,
   "metadata": {},
   "outputs": [
    {
     "data": {
      "text/html": [
       "<table>\n",
       "<caption>A matrix: 3 × 3 of type int</caption>\n",
       "<thead>\n",
       "\t<tr><th scope=col>1</th><th scope=col>2</th><th scope=col>3</th></tr>\n",
       "</thead>\n",
       "<tbody>\n",
       "\t<tr><td>1</td><td>4</td><td>3</td></tr>\n",
       "\t<tr><td>2</td><td>1</td><td>4</td></tr>\n",
       "\t<tr><td>3</td><td>2</td><td>1</td></tr>\n",
       "</tbody>\n",
       "</table>\n"
      ],
      "text/latex": [
       "A matrix: 3 × 3 of type int\n",
       "\\begin{tabular}{r|lll}\n",
       " 1 & 2 & 3\\\\\n",
       "\\hline\n",
       "\t 1 & 4 & 3\\\\\n",
       "\t 2 & 1 & 4\\\\\n",
       "\t 3 & 2 & 1\\\\\n",
       "\\end{tabular}\n"
      ],
      "text/markdown": [
       "\n",
       "A matrix: 3 × 3 of type int\n",
       "\n",
       "| 1 | 2 | 3 |\n",
       "|---|---|---|\n",
       "| 1 | 4 | 3 |\n",
       "| 2 | 1 | 4 |\n",
       "| 3 | 2 | 1 |\n",
       "\n"
      ],
      "text/plain": [
       "  1 2 3\n",
       "1 1 4 3\n",
       "2 2 1 4\n",
       "3 3 2 1"
      ]
     },
     "metadata": {},
     "output_type": "display_data"
    },
    {
     "name": "stdout",
     "output_type": "stream",
     "text": [
      "[1] 4\n"
     ]
    }
   ],
   "source": [
    "#help(array)\n",
    "\n",
    "a = array(1:4, c(3,3), list(c(1,2,3),c(1,2,3)))\n",
    "a\n",
    "\n",
    "print(a[2,3])"
   ]
  }
 ],
 "metadata": {
  "kernelspec": {
   "display_name": "R",
   "language": "R",
   "name": "ir"
  },
  "language_info": {
   "codemirror_mode": "r",
   "file_extension": ".r",
   "mimetype": "text/x-r-source",
   "name": "R",
   "pygments_lexer": "r",
   "version": "3.5.1"
  }
 },
 "nbformat": 4,
 "nbformat_minor": 2
}
